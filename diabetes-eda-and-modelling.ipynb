{
 "cells": [
  {
   "cell_type": "code",
   "execution_count": 1,
   "id": "580094a4",
   "metadata": {
    "_cell_guid": "b1076dfc-b9ad-4769-8c92-a6c4dae69d19",
    "_uuid": "8f2839f25d086af736a60e9eeb907d3b93b6e0e5",
    "execution": {
     "iopub.execute_input": "2023-09-07T13:27:25.114203Z",
     "iopub.status.busy": "2023-09-07T13:27:25.113772Z",
     "iopub.status.idle": "2023-09-07T13:27:25.453024Z",
     "shell.execute_reply": "2023-09-07T13:27:25.451137Z"
    },
    "papermill": {
     "duration": 0.354814,
     "end_time": "2023-09-07T13:27:25.455433",
     "exception": false,
     "start_time": "2023-09-07T13:27:25.100619",
     "status": "completed"
    },
    "tags": []
   },
   "outputs": [
    {
     "name": "stdout",
     "output_type": "stream",
     "text": [
      "/kaggle/input/diabetes-prediction-dataset/diabetes_prediction_dataset.csv\n"
     ]
    }
   ],
   "source": [
    "# This Python 3 environment comes with many helpful analytics libraries installed\n",
    "# It is defined by the kaggle/python Docker image: https://github.com/kaggle/docker-python\n",
    "# For example, here's several helpful packages to load\n",
    "\n",
    "import numpy as np # linear algebra\n",
    "import pandas as pd # data processing, CSV file I/O (e.g. pd.read_csv)\n",
    "\n",
    "# Input data files are available in the read-only \"../input/\" directory\n",
    "# For example, running this (by clicking run or pressing Shift+Enter) will list all files under the input directory\n",
    "\n",
    "import os\n",
    "for dirname, _, filenames in os.walk('/kaggle/input'):\n",
    "    for filename in filenames:\n",
    "        print(os.path.join(dirname, filename))\n",
    "\n",
    "# You can write up to 20GB to the current directory (/kaggle/working/) that gets preserved as output when you create a version using \"Save & Run All\" \n",
    "# You can also write temporary files to /kaggle/temp/, but they won't be saved outside of the current session"
   ]
  },
  {
   "cell_type": "code",
   "execution_count": 2,
   "id": "4d73a73f",
   "metadata": {
    "execution": {
     "iopub.execute_input": "2023-09-07T13:27:25.478897Z",
     "iopub.status.busy": "2023-09-07T13:27:25.478334Z",
     "iopub.status.idle": "2023-09-07T13:27:28.118289Z",
     "shell.execute_reply": "2023-09-07T13:27:28.117112Z"
    },
    "papermill": {
     "duration": 2.654979,
     "end_time": "2023-09-07T13:27:28.121056",
     "exception": false,
     "start_time": "2023-09-07T13:27:25.466077",
     "status": "completed"
    },
    "tags": []
   },
   "outputs": [],
   "source": [
    "import pandas as pd\n",
    "import numpy as np\n",
    "import matplotlib.pyplot as plt\n",
    "import seaborn as sns\n",
    "from sklearn.preprocessing import StandardScaler\n",
    "from sklearn.model_selection import train_test_split\n",
    "from sklearn.metrics import confusion_matrix, accuracy_score, classification_report\n",
    "from sklearn.tree import DecisionTreeClassifier\n",
    "from sklearn.ensemble import RandomForestClassifier\n",
    "from sklearn.linear_model import LogisticRegression \n",
    "from sklearn.svm import SVC\n",
    "from imblearn.over_sampling import KMeansSMOTE, SMOTE,SVMSMOTE\n",
    "from sklearn.naive_bayes import GaussianNB\n",
    "from sklearn.neighbors import KNeighborsClassifier"
   ]
  },
  {
   "cell_type": "code",
   "execution_count": 3,
   "id": "42d69adb",
   "metadata": {
    "execution": {
     "iopub.execute_input": "2023-09-07T13:27:28.144314Z",
     "iopub.status.busy": "2023-09-07T13:27:28.143785Z",
     "iopub.status.idle": "2023-09-07T13:27:28.313001Z",
     "shell.execute_reply": "2023-09-07T13:27:28.311365Z"
    },
    "papermill": {
     "duration": 0.183766,
     "end_time": "2023-09-07T13:27:28.315623",
     "exception": false,
     "start_time": "2023-09-07T13:27:28.131857",
     "status": "completed"
    },
    "tags": []
   },
   "outputs": [
    {
     "data": {
      "text/html": [
       "<div>\n",
       "<style scoped>\n",
       "    .dataframe tbody tr th:only-of-type {\n",
       "        vertical-align: middle;\n",
       "    }\n",
       "\n",
       "    .dataframe tbody tr th {\n",
       "        vertical-align: top;\n",
       "    }\n",
       "\n",
       "    .dataframe thead th {\n",
       "        text-align: right;\n",
       "    }\n",
       "</style>\n",
       "<table border=\"1\" class=\"dataframe\">\n",
       "  <thead>\n",
       "    <tr style=\"text-align: right;\">\n",
       "      <th></th>\n",
       "      <th>gender</th>\n",
       "      <th>age</th>\n",
       "      <th>hypertension</th>\n",
       "      <th>heart_disease</th>\n",
       "      <th>smoking_history</th>\n",
       "      <th>bmi</th>\n",
       "      <th>HbA1c_level</th>\n",
       "      <th>blood_glucose_level</th>\n",
       "      <th>diabetes</th>\n",
       "    </tr>\n",
       "  </thead>\n",
       "  <tbody>\n",
       "    <tr>\n",
       "      <th>0</th>\n",
       "      <td>Female</td>\n",
       "      <td>80.0</td>\n",
       "      <td>0</td>\n",
       "      <td>1</td>\n",
       "      <td>never</td>\n",
       "      <td>25.19</td>\n",
       "      <td>6.6</td>\n",
       "      <td>140</td>\n",
       "      <td>0</td>\n",
       "    </tr>\n",
       "    <tr>\n",
       "      <th>1</th>\n",
       "      <td>Female</td>\n",
       "      <td>54.0</td>\n",
       "      <td>0</td>\n",
       "      <td>0</td>\n",
       "      <td>No Info</td>\n",
       "      <td>27.32</td>\n",
       "      <td>6.6</td>\n",
       "      <td>80</td>\n",
       "      <td>0</td>\n",
       "    </tr>\n",
       "    <tr>\n",
       "      <th>2</th>\n",
       "      <td>Male</td>\n",
       "      <td>28.0</td>\n",
       "      <td>0</td>\n",
       "      <td>0</td>\n",
       "      <td>never</td>\n",
       "      <td>27.32</td>\n",
       "      <td>5.7</td>\n",
       "      <td>158</td>\n",
       "      <td>0</td>\n",
       "    </tr>\n",
       "    <tr>\n",
       "      <th>3</th>\n",
       "      <td>Female</td>\n",
       "      <td>36.0</td>\n",
       "      <td>0</td>\n",
       "      <td>0</td>\n",
       "      <td>current</td>\n",
       "      <td>23.45</td>\n",
       "      <td>5.0</td>\n",
       "      <td>155</td>\n",
       "      <td>0</td>\n",
       "    </tr>\n",
       "    <tr>\n",
       "      <th>4</th>\n",
       "      <td>Male</td>\n",
       "      <td>76.0</td>\n",
       "      <td>1</td>\n",
       "      <td>1</td>\n",
       "      <td>current</td>\n",
       "      <td>20.14</td>\n",
       "      <td>4.8</td>\n",
       "      <td>155</td>\n",
       "      <td>0</td>\n",
       "    </tr>\n",
       "  </tbody>\n",
       "</table>\n",
       "</div>"
      ],
      "text/plain": [
       "   gender   age  hypertension  heart_disease smoking_history    bmi  \\\n",
       "0  Female  80.0             0              1           never  25.19   \n",
       "1  Female  54.0             0              0         No Info  27.32   \n",
       "2    Male  28.0             0              0           never  27.32   \n",
       "3  Female  36.0             0              0         current  23.45   \n",
       "4    Male  76.0             1              1         current  20.14   \n",
       "\n",
       "   HbA1c_level  blood_glucose_level  diabetes  \n",
       "0          6.6                  140         0  \n",
       "1          6.6                   80         0  \n",
       "2          5.7                  158         0  \n",
       "3          5.0                  155         0  \n",
       "4          4.8                  155         0  "
      ]
     },
     "execution_count": 3,
     "metadata": {},
     "output_type": "execute_result"
    }
   ],
   "source": [
    "df = pd.read_csv(\"/kaggle/input/diabetes-prediction-dataset/diabetes_prediction_dataset.csv\")\n",
    "df.head()"
   ]
  },
  {
   "cell_type": "code",
   "execution_count": 4,
   "id": "2fba6698",
   "metadata": {
    "execution": {
     "iopub.execute_input": "2023-09-07T13:27:28.338621Z",
     "iopub.status.busy": "2023-09-07T13:27:28.338207Z",
     "iopub.status.idle": "2023-09-07T13:27:28.374137Z",
     "shell.execute_reply": "2023-09-07T13:27:28.373301Z"
    },
    "papermill": {
     "duration": 0.049955,
     "end_time": "2023-09-07T13:27:28.376221",
     "exception": false,
     "start_time": "2023-09-07T13:27:28.326266",
     "status": "completed"
    },
    "tags": []
   },
   "outputs": [
    {
     "name": "stdout",
     "output_type": "stream",
     "text": [
      "<class 'pandas.core.frame.DataFrame'>\n",
      "RangeIndex: 100000 entries, 0 to 99999\n",
      "Data columns (total 9 columns):\n",
      " #   Column               Non-Null Count   Dtype  \n",
      "---  ------               --------------   -----  \n",
      " 0   gender               100000 non-null  object \n",
      " 1   age                  100000 non-null  float64\n",
      " 2   hypertension         100000 non-null  int64  \n",
      " 3   heart_disease        100000 non-null  int64  \n",
      " 4   smoking_history      100000 non-null  object \n",
      " 5   bmi                  100000 non-null  float64\n",
      " 6   HbA1c_level          100000 non-null  float64\n",
      " 7   blood_glucose_level  100000 non-null  int64  \n",
      " 8   diabetes             100000 non-null  int64  \n",
      "dtypes: float64(3), int64(4), object(2)\n",
      "memory usage: 6.9+ MB\n"
     ]
    }
   ],
   "source": [
    "df.info()"
   ]
  },
  {
   "cell_type": "code",
   "execution_count": 5,
   "id": "0ffde392",
   "metadata": {
    "execution": {
     "iopub.execute_input": "2023-09-07T13:27:28.401526Z",
     "iopub.status.busy": "2023-09-07T13:27:28.401063Z",
     "iopub.status.idle": "2023-09-07T13:27:28.416792Z",
     "shell.execute_reply": "2023-09-07T13:27:28.415680Z"
    },
    "papermill": {
     "duration": 0.031036,
     "end_time": "2023-09-07T13:27:28.418738",
     "exception": false,
     "start_time": "2023-09-07T13:27:28.387702",
     "status": "completed"
    },
    "tags": []
   },
   "outputs": [
    {
     "data": {
      "text/plain": [
       "gender                 0\n",
       "age                    0\n",
       "hypertension           0\n",
       "heart_disease          0\n",
       "smoking_history        0\n",
       "bmi                    0\n",
       "HbA1c_level            0\n",
       "blood_glucose_level    0\n",
       "diabetes               0\n",
       "dtype: int64"
      ]
     },
     "execution_count": 5,
     "metadata": {},
     "output_type": "execute_result"
    }
   ],
   "source": [
    "df.isna().sum()"
   ]
  },
  {
   "cell_type": "code",
   "execution_count": 6,
   "id": "04e7d1ec",
   "metadata": {
    "execution": {
     "iopub.execute_input": "2023-09-07T13:27:28.442397Z",
     "iopub.status.busy": "2023-09-07T13:27:28.442017Z",
     "iopub.status.idle": "2023-09-07T13:27:28.449486Z",
     "shell.execute_reply": "2023-09-07T13:27:28.448489Z"
    },
    "papermill": {
     "duration": 0.021728,
     "end_time": "2023-09-07T13:27:28.451930",
     "exception": false,
     "start_time": "2023-09-07T13:27:28.430202",
     "status": "completed"
    },
    "tags": []
   },
   "outputs": [
    {
     "data": {
      "text/plain": [
       "(100000, 9)"
      ]
     },
     "execution_count": 6,
     "metadata": {},
     "output_type": "execute_result"
    }
   ],
   "source": [
    "df.shape"
   ]
  },
  {
   "cell_type": "code",
   "execution_count": 7,
   "id": "010907cf",
   "metadata": {
    "execution": {
     "iopub.execute_input": "2023-09-07T13:27:28.476289Z",
     "iopub.status.busy": "2023-09-07T13:27:28.475178Z",
     "iopub.status.idle": "2023-09-07T13:27:28.482625Z",
     "shell.execute_reply": "2023-09-07T13:27:28.481379Z"
    },
    "papermill": {
     "duration": 0.021373,
     "end_time": "2023-09-07T13:27:28.484453",
     "exception": false,
     "start_time": "2023-09-07T13:27:28.463080",
     "status": "completed"
    },
    "tags": []
   },
   "outputs": [
    {
     "data": {
      "text/plain": [
       "gender                  object\n",
       "age                    float64\n",
       "hypertension             int64\n",
       "heart_disease            int64\n",
       "smoking_history         object\n",
       "bmi                    float64\n",
       "HbA1c_level            float64\n",
       "blood_glucose_level      int64\n",
       "diabetes                 int64\n",
       "dtype: object"
      ]
     },
     "execution_count": 7,
     "metadata": {},
     "output_type": "execute_result"
    }
   ],
   "source": [
    "df.dtypes"
   ]
  },
  {
   "cell_type": "markdown",
   "id": "de72eedb",
   "metadata": {
    "papermill": {
     "duration": 0.010347,
     "end_time": "2023-09-07T13:27:28.505524",
     "exception": false,
     "start_time": "2023-09-07T13:27:28.495177",
     "status": "completed"
    },
    "tags": []
   },
   "source": [
    "**Exploratory Data Analysis and Visualisation**"
   ]
  },
  {
   "cell_type": "code",
   "execution_count": 8,
   "id": "1f5a4a07",
   "metadata": {
    "execution": {
     "iopub.execute_input": "2023-09-07T13:27:28.529808Z",
     "iopub.status.busy": "2023-09-07T13:27:28.528524Z",
     "iopub.status.idle": "2023-09-07T13:27:28.738734Z",
     "shell.execute_reply": "2023-09-07T13:27:28.737207Z"
    },
    "papermill": {
     "duration": 0.226517,
     "end_time": "2023-09-07T13:27:28.742668",
     "exception": false,
     "start_time": "2023-09-07T13:27:28.516151",
     "status": "completed"
    },
    "tags": []
   },
   "outputs": [
    {
     "data": {
      "image/png": "[encoded data removed]",
      "text/plain": [
       "<Figure size 640x480 with 1 Axes>"
      ]
     },
     "metadata": {},
     "output_type": "display_data"
    }
   ],
   "source": [
    "df.diabetes.value_counts().plot(kind = 'pie', autopct = '%1.1f%%',explode = [0, 0.1], shadow = True)\n",
    "plt.title('Distribution of Diabetes')\n",
    "plt.show()"
   ]
  },
  {
   "cell_type": "markdown",
   "id": "2c1d5a0b",
   "metadata": {
    "papermill": {
     "duration": 0.015492,
     "end_time": "2023-09-07T13:27:28.773844",
     "exception": false,
     "start_time": "2023-09-07T13:27:28.758352",
     "status": "completed"
    },
    "tags": []
   },
   "source": [
    "We can see that only 8.5% of patients are diabetic."
   ]
  },
  {
   "cell_type": "code",
   "execution_count": 9,
   "id": "ca6c4279",
   "metadata": {
    "execution": {
     "iopub.execute_input": "2023-09-07T13:27:28.804901Z",
     "iopub.status.busy": "2023-09-07T13:27:28.804129Z",
     "iopub.status.idle": "2023-09-07T13:27:29.745466Z",
     "shell.execute_reply": "2023-09-07T13:27:29.744612Z"
    },
    "papermill": {
     "duration": 0.959411,
     "end_time": "2023-09-07T13:27:29.747670",
     "exception": false,
     "start_time": "2023-09-07T13:27:28.788259",
     "status": "completed"
    },
    "tags": []
   },
   "outputs": [
    {
     "data": {
      "image/png": "[encoded data removed]",
      "text/plain": [
       "<Figure size 1400x800 with 4 Axes>"
      ]
     },
     "metadata": {},
     "output_type": "display_data"
    }
   ],
   "source": [
    "# ploting categorical features alongiside target feature\n",
    "fig, axes = plt.subplots(nrows=2, ncols=2, figsize=(14, 8))\n",
    "\n",
    "# Chart 1: Distribution of gender\n",
    "sns.countplot(x=\"gender\", data=df,hue = 'diabetes',ax=axes[0, 0])\n",
    "axes[0, 0].set_title(\"Distribution of Diabetes status within Gender\")\n",
    "axes[0, 0].set_xlabel(\"Gender\")\n",
    "axes[0, 0].set_ylabel(\"Count\")\n",
    "\n",
    "# Chart 2: Distribution of a\n",
    "sns.countplot(x=\"hypertension\", data=df, hue = 'diabetes', ax=axes[0, 1])\n",
    "axes[0, 1].set_title(\"Distribution of Diabetes status within Hypertension\")\n",
    "axes[0, 1].set_xlabel(\"Hypertension\")\n",
    "axes[0, 1].set_ylabel(\"Count\")\n",
    "\n",
    "# Chart 3: Distribution of heart disease\n",
    "sns.countplot(x=\"heart_disease\", hue = 'diabetes',data=df, ax=axes[1, 0])\n",
    "axes[1, 0].set_title(\"Distribution of Diabetes status within Heart Disease\")\n",
    "axes[1, 0].set_xlabel(\"Heart Disease\")\n",
    "axes[1, 0].set_ylabel(\"Count\")\n",
    "\n",
    "# Chart 4: Distribution of smoking history\n",
    "sns.countplot(x=\"smoking_history\", data=df, hue = 'diabetes', ax=axes[1, 1])\n",
    "axes[1, 1].set_title(\"Distribution of Diabetes status within Smoking History\")\n",
    "axes[1, 1].set_xlabel(\"Smoking History\")\n",
    "axes[1, 1].set_ylabel(\"Count\")\n",
    "\n",
    "plt.tight_layout()\n",
    "plt.show()"
   ]
  },
  {
   "cell_type": "code",
   "execution_count": 10,
   "id": "12f67cef",
   "metadata": {
    "execution": {
     "iopub.execute_input": "2023-09-07T13:27:29.840319Z",
     "iopub.status.busy": "2023-09-07T13:27:29.839709Z",
     "iopub.status.idle": "2023-09-07T13:27:30.574243Z",
     "shell.execute_reply": "2023-09-07T13:27:30.573508Z"
    },
    "papermill": {
     "duration": 0.816098,
     "end_time": "2023-09-07T13:27:30.575990",
     "exception": false,
     "start_time": "2023-09-07T13:27:29.759892",
     "status": "completed"
    },
    "tags": []
   },
   "outputs": [
    {
     "data": {
      "image/png": "[encoded data removed]",
      "text/plain": [
       "<Figure size 1400x800 with 4 Axes>"
      ]
     },
     "metadata": {},
     "output_type": "display_data"
    }
   ],
   "source": [
    "# Calculate the percentage of diabetes status within each category\n",
    "gender_percentages = df.groupby('gender')['diabetes'].mean() * 100\n",
    "hypertension_percentages = df.groupby('hypertension')['diabetes'].mean() * 100\n",
    "heart_disease_percentages = df.groupby('heart_disease')['diabetes'].mean() * 100\n",
    "smoking_history_percentages = df.groupby('smoking_history')['diabetes'].mean() * 100\n",
    "\n",
    "# Plotting categorical features alongside target feature\n",
    "fig, axes = plt.subplots(nrows=2, ncols=2, figsize=(14, 8))\n",
    "\n",
    "# Chart 1: Distribution of gender\n",
    "sns.barplot(x=gender_percentages.index, y=gender_percentages.values, ax=axes[0, 0])\n",
    "axes[0, 0].set_title(\"Percentage Diabetic patients within Gender\")\n",
    "axes[0, 0].set_xlabel(\"Gender\")\n",
    "axes[0, 0].set_ylabel(\"Diabetes Percentage\")\n",
    "\n",
    "# Chart 2: Distribution of hypertension\n",
    "sns.barplot(x=hypertension_percentages.index, y=hypertension_percentages.values, ax=axes[0, 1])\n",
    "axes[0, 1].set_title(\"Percentage Diabetic patients within Hypertension\")\n",
    "axes[0, 1].set_xlabel(\"Hypertension\")\n",
    "axes[0, 1].set_ylabel(\"Diabetes Percentage\")\n",
    "\n",
    "# Chart 3: Distribution of heart disease\n",
    "sns.barplot(x=heart_disease_percentages.index, y=heart_disease_percentages.values, ax=axes[1, 0])\n",
    "axes[1, 0].set_title(\"Percentage Diabetic patients within Heart Disease\")\n",
    "axes[1, 0].set_xlabel(\"Heart Disease\")\n",
    "axes[1, 0].set_ylabel(\"Diabetes Percentage\")\n",
    "\n",
    "# Chart 4: Distribution of smoking history\n",
    "sns.barplot(x=smoking_history_percentages.index, y=smoking_history_percentages.values, ax=axes[1, 1])\n",
    "axes[1, 1].set_title(\"Percentage Diabetic patients within Smoking History\")\n",
    "axes[1, 1].set_xlabel(\"Smoking History\")\n",
    "axes[1, 1].set_ylabel(\"Diabetes Percentage\")\n",
    "\n",
    "plt.tight_layout()\n",
    "plt.show()"
   ]
  },
  {
   "cell_type": "code",
   "execution_count": 11,
   "id": "cfe0c0be",
   "metadata": {
    "execution": {
     "iopub.execute_input": "2023-09-07T13:27:30.605466Z",
     "iopub.status.busy": "2023-09-07T13:27:30.604855Z",
     "iopub.status.idle": "2023-09-07T13:27:32.584806Z",
     "shell.execute_reply": "2023-09-07T13:27:32.583124Z"
    },
    "papermill": {
     "duration": 1.997605,
     "end_time": "2023-09-07T13:27:32.587543",
     "exception": false,
     "start_time": "2023-09-07T13:27:30.589938",
     "status": "completed"
    },
    "tags": []
   },
   "outputs": [
    {
     "data": {
      "image/png": "[encoded data removed]",
      "text/plain": [
       "<Figure size 1000x800 with 4 Axes>"
      ]
     },
     "metadata": {},
     "output_type": "display_data"
    }
   ],
   "source": [
    "# Distribution of numeric features\n",
    "\n",
    "# Create subplots\n",
    "fig, axes = plt.subplots(nrows=2, ncols=2, figsize=(10, 8))\n",
    "\n",
    "# List of numeric feature columns\n",
    "numeric_features = ['age', 'bmi', 'HbA1c_level', 'blood_glucose_level']\n",
    "\n",
    "# Loop through numeric features and plot them\n",
    "for i, feature in enumerate(numeric_features):\n",
    "    row = i // 2\n",
    "    col = i % 2\n",
    "    \n",
    "    sns.histplot(df[feature], ax=axes[row, col])\n",
    "    axes[row, col].set_title(f'{feature}')\n",
    "    \n",
    "# Adjust layout\n",
    "plt.tight_layout()\n",
    "\n",
    "# Show the plots\n",
    "plt.show()"
   ]
  },
  {
   "cell_type": "code",
   "execution_count": 12,
   "id": "8457a68e",
   "metadata": {
    "execution": {
     "iopub.execute_input": "2023-09-07T13:27:32.617872Z",
     "iopub.status.busy": "2023-09-07T13:27:32.617457Z",
     "iopub.status.idle": "2023-09-07T13:27:33.757686Z",
     "shell.execute_reply": "2023-09-07T13:27:33.756078Z"
    },
    "papermill": {
     "duration": 1.15892,
     "end_time": "2023-09-07T13:27:33.760338",
     "exception": false,
     "start_time": "2023-09-07T13:27:32.601418",
     "status": "completed"
    },
    "tags": []
   },
   "outputs": [
    {
     "data": {
      "image/png": "[encoded data removed]",
      "text/plain": [
       "<Figure size 1400x800 with 6 Axes>"
      ]
     },
     "metadata": {},
     "output_type": "display_data"
    }
   ],
   "source": [
    "fig, axes = plt.subplots(nrows=2, ncols=3, figsize=(14, 8))\n",
    "\n",
    "# HbA1c_level vs Diabetes\n",
    "sns.boxplot(x = 'diabetes', y = 'HbA1c_level', data = df,ax=axes[0, 0])\n",
    "ax=axes[0, 0].set_title('Box plot of HbA1c_level vs Diabetes')\n",
    "ax=axes[0, 0].set_xlabel('diabetes')\n",
    "ax=axes[0, 0].set_ylabel('HbA1c_level')\n",
    "\n",
    "\n",
    "# Blood glucose vs Diabetes\n",
    "sns.boxplot(x = 'diabetes', y = 'blood_glucose_level', data = df,ax=axes[0, 1])\n",
    "ax=axes[0, 1].set_title('Box plot of Blood glucose level vs Diabetes status')\n",
    "ax=axes[0, 1].set_xlabel('diabetes')\n",
    "ax=axes[0, 1].set_ylabel('Blood glucose level')\n",
    "\n",
    "\n",
    "# BMI vs Diabetes\n",
    "sns.boxplot(x = 'diabetes', y = 'bmi', data = df, ax=axes[0, 2])\n",
    "ax=axes[0, 2].set_title('Box plot of bmi vs Diabetes status')\n",
    "ax=axes[0, 2].set_xlabel('diabetes')\n",
    "ax=axes[0, 2].set_ylabel('BMI')\n",
    "\n",
    "\n",
    "# age vs Diabetes\n",
    "sns.boxplot(x = 'diabetes', y = 'age', data = df, ax=axes[1, 0])\n",
    "ax=axes[1, 0].set_title('Box plot of age vs Diabetes status')\n",
    "ax=axes[1, 0].set_xlabel('diabetes')\n",
    "ax=axes[1, 0].set_ylabel('Age')\n",
    "\n",
    "\n",
    "# age vs hypertension\n",
    "sns.boxplot(x = 'hypertension', y = 'age', data = df, ax=axes[1, 1])\n",
    "ax=axes[1, 1].set_title('Box plot of age vs Hypertension status')\n",
    "ax=axes[1, 1].set_xlabel('Hypertension')\n",
    "ax=axes[1, 1].set_ylabel('Age')\n",
    "\n",
    "\n",
    "# age vs heart disease\n",
    "sns.boxplot(x = 'heart_disease', y = 'age', data = df, ax=axes[1, 2])\n",
    "ax=axes[1, 2].set_title('Box plot of age vs Heart disease')\n",
    "ax=axes[1, 2].set_xlabel('heart disease')\n",
    "ax=axes[1, 2].set_ylabel('Age')\n",
    "\n",
    "plt.tight_layout()\n",
    "plt.show()"
   ]
  },
  {
   "cell_type": "markdown",
   "id": "44e737dd",
   "metadata": {
    "papermill": {
     "duration": 0.014708,
     "end_time": "2023-09-07T13:27:33.791292",
     "exception": false,
     "start_time": "2023-09-07T13:27:33.776584",
     "status": "completed"
    },
    "tags": []
   },
   "source": [
    "1. We can see that Diabetes is more common in people with high HbA1c level and Blood glucose level.\n",
    "2. We can notice that excluding outliers, the youngest age frame for patients with hypertension and diabetes is 20 years, which means that patients aged 20 and above are more prone diabetes and hypertension.\n",
    "3. Older people are more prone to heart disease."
   ]
  },
  {
   "cell_type": "code",
   "execution_count": 13,
   "id": "4acd54f4",
   "metadata": {
    "execution": {
     "iopub.execute_input": "2023-09-07T13:27:33.823463Z",
     "iopub.status.busy": "2023-09-07T13:27:33.822623Z",
     "iopub.status.idle": "2023-09-07T13:27:33.865044Z",
     "shell.execute_reply": "2023-09-07T13:27:33.864125Z"
    },
    "papermill": {
     "duration": 0.06065,
     "end_time": "2023-09-07T13:27:33.867178",
     "exception": false,
     "start_time": "2023-09-07T13:27:33.806528",
     "status": "completed"
    },
    "tags": []
   },
   "outputs": [
    {
     "data": {
      "text/html": [
       "<div>\n",
       "<style scoped>\n",
       "    .dataframe tbody tr th:only-of-type {\n",
       "        vertical-align: middle;\n",
       "    }\n",
       "\n",
       "    .dataframe tbody tr th {\n",
       "        vertical-align: top;\n",
       "    }\n",
       "\n",
       "    .dataframe thead th {\n",
       "        text-align: right;\n",
       "    }\n",
       "</style>\n",
       "<table border=\"1\" class=\"dataframe\">\n",
       "  <thead>\n",
       "    <tr style=\"text-align: right;\">\n",
       "      <th></th>\n",
       "      <th>age</th>\n",
       "      <th>hypertension</th>\n",
       "      <th>heart_disease</th>\n",
       "      <th>bmi</th>\n",
       "      <th>HbA1c_level</th>\n",
       "      <th>blood_glucose_level</th>\n",
       "      <th>diabetes</th>\n",
       "    </tr>\n",
       "  </thead>\n",
       "  <tbody>\n",
       "    <tr>\n",
       "      <th>count</th>\n",
       "      <td>100000.000000</td>\n",
       "      <td>100000.00000</td>\n",
       "      <td>100000.000000</td>\n",
       "      <td>100000.000000</td>\n",
       "      <td>100000.000000</td>\n",
       "      <td>100000.000000</td>\n",
       "      <td>100000.000000</td>\n",
       "    </tr>\n",
       "    <tr>\n",
       "      <th>mean</th>\n",
       "      <td>41.885856</td>\n",
       "      <td>0.07485</td>\n",
       "      <td>0.039420</td>\n",
       "      <td>27.320767</td>\n",
       "      <td>5.527507</td>\n",
       "      <td>138.058060</td>\n",
       "      <td>0.085000</td>\n",
       "    </tr>\n",
       "    <tr>\n",
       "      <th>std</th>\n",
       "      <td>22.516840</td>\n",
       "      <td>0.26315</td>\n",
       "      <td>0.194593</td>\n",
       "      <td>6.636783</td>\n",
       "      <td>1.070672</td>\n",
       "      <td>40.708136</td>\n",
       "      <td>0.278883</td>\n",
       "    </tr>\n",
       "    <tr>\n",
       "      <th>min</th>\n",
       "      <td>0.080000</td>\n",
       "      <td>0.00000</td>\n",
       "      <td>0.000000</td>\n",
       "      <td>10.010000</td>\n",
       "      <td>3.500000</td>\n",
       "      <td>80.000000</td>\n",
       "      <td>0.000000</td>\n",
       "    </tr>\n",
       "    <tr>\n",
       "      <th>25%</th>\n",
       "      <td>24.000000</td>\n",
       "      <td>0.00000</td>\n",
       "      <td>0.000000</td>\n",
       "      <td>23.630000</td>\n",
       "      <td>4.800000</td>\n",
       "      <td>100.000000</td>\n",
       "      <td>0.000000</td>\n",
       "    </tr>\n",
       "    <tr>\n",
       "      <th>50%</th>\n",
       "      <td>43.000000</td>\n",
       "      <td>0.00000</td>\n",
       "      <td>0.000000</td>\n",
       "      <td>27.320000</td>\n",
       "      <td>5.800000</td>\n",
       "      <td>140.000000</td>\n",
       "      <td>0.000000</td>\n",
       "    </tr>\n",
       "    <tr>\n",
       "      <th>75%</th>\n",
       "      <td>60.000000</td>\n",
       "      <td>0.00000</td>\n",
       "      <td>0.000000</td>\n",
       "      <td>29.580000</td>\n",
       "      <td>6.200000</td>\n",
       "      <td>159.000000</td>\n",
       "      <td>0.000000</td>\n",
       "    </tr>\n",
       "    <tr>\n",
       "      <th>max</th>\n",
       "      <td>80.000000</td>\n",
       "      <td>1.00000</td>\n",
       "      <td>1.000000</td>\n",
       "      <td>95.690000</td>\n",
       "      <td>9.000000</td>\n",
       "      <td>300.000000</td>\n",
       "      <td>1.000000</td>\n",
       "    </tr>\n",
       "  </tbody>\n",
       "</table>\n",
       "</div>"
      ],
      "text/plain": [
       "                 age  hypertension  heart_disease            bmi  \\\n",
       "count  100000.000000  100000.00000  100000.000000  100000.000000   \n",
       "mean       41.885856       0.07485       0.039420      27.320767   \n",
       "std        22.516840       0.26315       0.194593       6.636783   \n",
       "min         0.080000       0.00000       0.000000      10.010000   \n",
       "25%        24.000000       0.00000       0.000000      23.630000   \n",
       "50%        43.000000       0.00000       0.000000      27.320000   \n",
       "75%        60.000000       0.00000       0.000000      29.580000   \n",
       "max        80.000000       1.00000       1.000000      95.690000   \n",
       "\n",
       "         HbA1c_level  blood_glucose_level       diabetes  \n",
       "count  100000.000000        100000.000000  100000.000000  \n",
       "mean        5.527507           138.058060       0.085000  \n",
       "std         1.070672            40.708136       0.278883  \n",
       "min         3.500000            80.000000       0.000000  \n",
       "25%         4.800000           100.000000       0.000000  \n",
       "50%         5.800000           140.000000       0.000000  \n",
       "75%         6.200000           159.000000       0.000000  \n",
       "max         9.000000           300.000000       1.000000  "
      ]
     },
     "execution_count": 13,
     "metadata": {},
     "output_type": "execute_result"
    }
   ],
   "source": [
    "df.describe()"
   ]
  },
  {
   "cell_type": "markdown",
   "id": "d257461d",
   "metadata": {
    "papermill": {
     "duration": 0.014391,
     "end_time": "2023-09-07T13:27:33.896092",
     "exception": false,
     "start_time": "2023-09-07T13:27:33.881701",
     "status": "completed"
    },
    "tags": []
   },
   "source": [
    "**DATA PREPROCESSING**"
   ]
  },
  {
   "cell_type": "code",
   "execution_count": 14,
   "id": "5fd2249f",
   "metadata": {
    "execution": {
     "iopub.execute_input": "2023-09-07T13:27:33.926878Z",
     "iopub.status.busy": "2023-09-07T13:27:33.926454Z",
     "iopub.status.idle": "2023-09-07T13:27:33.948459Z",
     "shell.execute_reply": "2023-09-07T13:27:33.947728Z"
    },
    "papermill": {
     "duration": 0.039784,
     "end_time": "2023-09-07T13:27:33.950521",
     "exception": false,
     "start_time": "2023-09-07T13:27:33.910737",
     "status": "completed"
    },
    "tags": []
   },
   "outputs": [
    {
     "data": {
      "text/plain": [
       "gender\n",
       "Female    58552\n",
       "Male      41430\n",
       "Name: count, dtype: int64"
      ]
     },
     "execution_count": 14,
     "metadata": {},
     "output_type": "execute_result"
    }
   ],
   "source": [
    "# Remove the 'other' from the gender column\n",
    "df = df[df['gender']!='Other']\n",
    "df.gender.value_counts()"
   ]
  },
  {
   "cell_type": "code",
   "execution_count": 15,
   "id": "e707cec2",
   "metadata": {
    "execution": {
     "iopub.execute_input": "2023-09-07T13:27:33.982558Z",
     "iopub.status.busy": "2023-09-07T13:27:33.982116Z",
     "iopub.status.idle": "2023-09-07T13:27:34.022482Z",
     "shell.execute_reply": "2023-09-07T13:27:34.020923Z"
    },
    "papermill": {
     "duration": 0.059796,
     "end_time": "2023-09-07T13:27:34.024996",
     "exception": false,
     "start_time": "2023-09-07T13:27:33.965200",
     "status": "completed"
    },
    "tags": []
   },
   "outputs": [
    {
     "data": {
      "text/plain": [
       "3854"
      ]
     },
     "execution_count": 15,
     "metadata": {},
     "output_type": "execute_result"
    }
   ],
   "source": [
    "df.duplicated().sum()"
   ]
  },
  {
   "cell_type": "markdown",
   "id": "81e5cb79",
   "metadata": {
    "papermill": {
     "duration": 0.01471,
     "end_time": "2023-09-07T13:27:34.054837",
     "exception": false,
     "start_time": "2023-09-07T13:27:34.040127",
     "status": "completed"
    },
    "tags": []
   },
   "source": [
    "There are 3854 duplicated entries, so we need to remove them."
   ]
  },
  {
   "cell_type": "code",
   "execution_count": 16,
   "id": "233a968e",
   "metadata": {
    "execution": {
     "iopub.execute_input": "2023-09-07T13:27:34.087491Z",
     "iopub.status.busy": "2023-09-07T13:27:34.086878Z",
     "iopub.status.idle": "2023-09-07T13:27:34.145145Z",
     "shell.execute_reply": "2023-09-07T13:27:34.144077Z"
    },
    "papermill": {
     "duration": 0.077016,
     "end_time": "2023-09-07T13:27:34.147032",
     "exception": false,
     "start_time": "2023-09-07T13:27:34.070016",
     "status": "completed"
    },
    "tags": []
   },
   "outputs": [
    {
     "data": {
      "text/plain": [
       "0"
      ]
     },
     "execution_count": 16,
     "metadata": {},
     "output_type": "execute_result"
    }
   ],
   "source": [
    "df = df.drop_duplicates()\n",
    "df.duplicated().sum()"
   ]
  },
  {
   "cell_type": "code",
   "execution_count": 17,
   "id": "742fdbda",
   "metadata": {
    "execution": {
     "iopub.execute_input": "2023-09-07T13:27:34.181182Z",
     "iopub.status.busy": "2023-09-07T13:27:34.180694Z",
     "iopub.status.idle": "2023-09-07T13:27:34.224894Z",
     "shell.execute_reply": "2023-09-07T13:27:34.223288Z"
    },
    "papermill": {
     "duration": 0.0657,
     "end_time": "2023-09-07T13:27:34.227886",
     "exception": false,
     "start_time": "2023-09-07T13:27:34.162186",
     "status": "completed"
    },
    "tags": []
   },
   "outputs": [
    {
     "data": {
      "text/html": [
       "<div>\n",
       "<style scoped>\n",
       "    .dataframe tbody tr th:only-of-type {\n",
       "        vertical-align: middle;\n",
       "    }\n",
       "\n",
       "    .dataframe tbody tr th {\n",
       "        vertical-align: top;\n",
       "    }\n",
       "\n",
       "    .dataframe thead th {\n",
       "        text-align: right;\n",
       "    }\n",
       "</style>\n",
       "<table border=\"1\" class=\"dataframe\">\n",
       "  <thead>\n",
       "    <tr style=\"text-align: right;\">\n",
       "      <th></th>\n",
       "      <th>age</th>\n",
       "      <th>hypertension</th>\n",
       "      <th>heart_disease</th>\n",
       "      <th>bmi</th>\n",
       "      <th>HbA1c_level</th>\n",
       "      <th>blood_glucose_level</th>\n",
       "      <th>diabetes</th>\n",
       "      <th>gender_Female</th>\n",
       "      <th>gender_Male</th>\n",
       "      <th>smoking_history_No Info</th>\n",
       "      <th>smoking_history_current</th>\n",
       "      <th>smoking_history_ever</th>\n",
       "      <th>smoking_history_former</th>\n",
       "      <th>smoking_history_never</th>\n",
       "      <th>smoking_history_not current</th>\n",
       "    </tr>\n",
       "  </thead>\n",
       "  <tbody>\n",
       "    <tr>\n",
       "      <th>0</th>\n",
       "      <td>80.0</td>\n",
       "      <td>0</td>\n",
       "      <td>1</td>\n",
       "      <td>25.19</td>\n",
       "      <td>6.6</td>\n",
       "      <td>140</td>\n",
       "      <td>0</td>\n",
       "      <td>True</td>\n",
       "      <td>False</td>\n",
       "      <td>False</td>\n",
       "      <td>False</td>\n",
       "      <td>False</td>\n",
       "      <td>False</td>\n",
       "      <td>True</td>\n",
       "      <td>False</td>\n",
       "    </tr>\n",
       "    <tr>\n",
       "      <th>1</th>\n",
       "      <td>54.0</td>\n",
       "      <td>0</td>\n",
       "      <td>0</td>\n",
       "      <td>27.32</td>\n",
       "      <td>6.6</td>\n",
       "      <td>80</td>\n",
       "      <td>0</td>\n",
       "      <td>True</td>\n",
       "      <td>False</td>\n",
       "      <td>True</td>\n",
       "      <td>False</td>\n",
       "      <td>False</td>\n",
       "      <td>False</td>\n",
       "      <td>False</td>\n",
       "      <td>False</td>\n",
       "    </tr>\n",
       "    <tr>\n",
       "      <th>2</th>\n",
       "      <td>28.0</td>\n",
       "      <td>0</td>\n",
       "      <td>0</td>\n",
       "      <td>27.32</td>\n",
       "      <td>5.7</td>\n",
       "      <td>158</td>\n",
       "      <td>0</td>\n",
       "      <td>False</td>\n",
       "      <td>True</td>\n",
       "      <td>False</td>\n",
       "      <td>False</td>\n",
       "      <td>False</td>\n",
       "      <td>False</td>\n",
       "      <td>True</td>\n",
       "      <td>False</td>\n",
       "    </tr>\n",
       "    <tr>\n",
       "      <th>3</th>\n",
       "      <td>36.0</td>\n",
       "      <td>0</td>\n",
       "      <td>0</td>\n",
       "      <td>23.45</td>\n",
       "      <td>5.0</td>\n",
       "      <td>155</td>\n",
       "      <td>0</td>\n",
       "      <td>True</td>\n",
       "      <td>False</td>\n",
       "      <td>False</td>\n",
       "      <td>True</td>\n",
       "      <td>False</td>\n",
       "      <td>False</td>\n",
       "      <td>False</td>\n",
       "      <td>False</td>\n",
       "    </tr>\n",
       "    <tr>\n",
       "      <th>4</th>\n",
       "      <td>76.0</td>\n",
       "      <td>1</td>\n",
       "      <td>1</td>\n",
       "      <td>20.14</td>\n",
       "      <td>4.8</td>\n",
       "      <td>155</td>\n",
       "      <td>0</td>\n",
       "      <td>False</td>\n",
       "      <td>True</td>\n",
       "      <td>False</td>\n",
       "      <td>True</td>\n",
       "      <td>False</td>\n",
       "      <td>False</td>\n",
       "      <td>False</td>\n",
       "      <td>False</td>\n",
       "    </tr>\n",
       "  </tbody>\n",
       "</table>\n",
       "</div>"
      ],
      "text/plain": [
       "    age  hypertension  heart_disease    bmi  HbA1c_level  blood_glucose_level  \\\n",
       "0  80.0             0              1  25.19          6.6                  140   \n",
       "1  54.0             0              0  27.32          6.6                   80   \n",
       "2  28.0             0              0  27.32          5.7                  158   \n",
       "3  36.0             0              0  23.45          5.0                  155   \n",
       "4  76.0             1              1  20.14          4.8                  155   \n",
       "\n",
       "   diabetes  gender_Female  gender_Male  smoking_history_No Info  \\\n",
       "0         0           True        False                    False   \n",
       "1         0           True        False                     True   \n",
       "2         0          False         True                    False   \n",
       "3         0           True        False                    False   \n",
       "4         0          False         True                    False   \n",
       "\n",
       "   smoking_history_current  smoking_history_ever  smoking_history_former  \\\n",
       "0                    False                 False                   False   \n",
       "1                    False                 False                   False   \n",
       "2                    False                 False                   False   \n",
       "3                     True                 False                   False   \n",
       "4                     True                 False                   False   \n",
       "\n",
       "   smoking_history_never  smoking_history_not current  \n",
       "0                   True                        False  \n",
       "1                  False                        False  \n",
       "2                   True                        False  \n",
       "3                  False                        False  \n",
       "4                  False                        False  "
      ]
     },
     "execution_count": 17,
     "metadata": {},
     "output_type": "execute_result"
    }
   ],
   "source": [
    "df_encoded = pd.get_dummies(df, columns=['gender', 'smoking_history'])\n",
    "df_encoded.head()"
   ]
  },
  {
   "cell_type": "code",
   "execution_count": 18,
   "id": "aff41329",
   "metadata": {
    "execution": {
     "iopub.execute_input": "2023-09-07T13:27:34.263118Z",
     "iopub.status.busy": "2023-09-07T13:27:34.262675Z",
     "iopub.status.idle": "2023-09-07T13:27:34.270623Z",
     "shell.execute_reply": "2023-09-07T13:27:34.268964Z"
    },
    "papermill": {
     "duration": 0.027173,
     "end_time": "2023-09-07T13:27:34.272512",
     "exception": false,
     "start_time": "2023-09-07T13:27:34.245339",
     "status": "completed"
    },
    "tags": []
   },
   "outputs": [
    {
     "data": {
      "text/plain": [
       "Index(['age', 'hypertension', 'heart_disease', 'bmi', 'HbA1c_level',\n",
       "       'blood_glucose_level', 'diabetes', 'gender_Female', 'gender_Male',\n",
       "       'smoking_history_No Info', 'smoking_history_current',\n",
       "       'smoking_history_ever', 'smoking_history_former',\n",
       "       'smoking_history_never', 'smoking_history_not current'],\n",
       "      dtype='object')"
      ]
     },
     "execution_count": 18,
     "metadata": {},
     "output_type": "execute_result"
    }
   ],
   "source": [
    "df_encoded.columns"
   ]
  },
  {
   "cell_type": "code",
   "execution_count": 19,
   "id": "856d625d",
   "metadata": {
    "execution": {
     "iopub.execute_input": "2023-09-07T13:27:34.306792Z",
     "iopub.status.busy": "2023-09-07T13:27:34.306095Z",
     "iopub.status.idle": "2023-09-07T13:27:34.318992Z",
     "shell.execute_reply": "2023-09-07T13:27:34.317314Z"
    },
    "papermill": {
     "duration": 0.033742,
     "end_time": "2023-09-07T13:27:34.321798",
     "exception": false,
     "start_time": "2023-09-07T13:27:34.288056",
     "status": "completed"
    },
    "tags": []
   },
   "outputs": [],
   "source": [
    "columns = ['gender_Female', 'gender_Male',\n",
    "       'smoking_history_No Info', 'smoking_history_current',\n",
    "       'smoking_history_ever', 'smoking_history_former',\n",
    "       'smoking_history_never', 'smoking_history_not current']\n",
    "df_encoded[columns] = df_encoded[columns].astype(int)"
   ]
  },
  {
   "cell_type": "code",
   "execution_count": 20,
   "id": "255f4a75",
   "metadata": {
    "execution": {
     "iopub.execute_input": "2023-09-07T13:27:34.358438Z",
     "iopub.status.busy": "2023-09-07T13:27:34.358021Z",
     "iopub.status.idle": "2023-09-07T13:27:34.376369Z",
     "shell.execute_reply": "2023-09-07T13:27:34.374682Z"
    },
    "papermill": {
     "duration": 0.040518,
     "end_time": "2023-09-07T13:27:34.379508",
     "exception": false,
     "start_time": "2023-09-07T13:27:34.338990",
     "status": "completed"
    },
    "tags": []
   },
   "outputs": [
    {
     "data": {
      "text/html": [
       "<div>\n",
       "<style scoped>\n",
       "    .dataframe tbody tr th:only-of-type {\n",
       "        vertical-align: middle;\n",
       "    }\n",
       "\n",
       "    .dataframe tbody tr th {\n",
       "        vertical-align: top;\n",
       "    }\n",
       "\n",
       "    .dataframe thead th {\n",
       "        text-align: right;\n",
       "    }\n",
       "</style>\n",
       "<table border=\"1\" class=\"dataframe\">\n",
       "  <thead>\n",
       "    <tr style=\"text-align: right;\">\n",
       "      <th></th>\n",
       "      <th>age</th>\n",
       "      <th>hypertension</th>\n",
       "      <th>heart_disease</th>\n",
       "      <th>bmi</th>\n",
       "      <th>HbA1c_level</th>\n",
       "      <th>blood_glucose_level</th>\n",
       "      <th>diabetes</th>\n",
       "      <th>gender_Female</th>\n",
       "      <th>gender_Male</th>\n",
       "      <th>smoking_history_No Info</th>\n",
       "      <th>smoking_history_current</th>\n",
       "      <th>smoking_history_ever</th>\n",
       "      <th>smoking_history_former</th>\n",
       "      <th>smoking_history_never</th>\n",
       "      <th>smoking_history_not current</th>\n",
       "    </tr>\n",
       "  </thead>\n",
       "  <tbody>\n",
       "    <tr>\n",
       "      <th>0</th>\n",
       "      <td>80.0</td>\n",
       "      <td>0</td>\n",
       "      <td>1</td>\n",
       "      <td>25.19</td>\n",
       "      <td>6.6</td>\n",
       "      <td>140</td>\n",
       "      <td>0</td>\n",
       "      <td>1</td>\n",
       "      <td>0</td>\n",
       "      <td>0</td>\n",
       "      <td>0</td>\n",
       "      <td>0</td>\n",
       "      <td>0</td>\n",
       "      <td>1</td>\n",
       "      <td>0</td>\n",
       "    </tr>\n",
       "    <tr>\n",
       "      <th>1</th>\n",
       "      <td>54.0</td>\n",
       "      <td>0</td>\n",
       "      <td>0</td>\n",
       "      <td>27.32</td>\n",
       "      <td>6.6</td>\n",
       "      <td>80</td>\n",
       "      <td>0</td>\n",
       "      <td>1</td>\n",
       "      <td>0</td>\n",
       "      <td>1</td>\n",
       "      <td>0</td>\n",
       "      <td>0</td>\n",
       "      <td>0</td>\n",
       "      <td>0</td>\n",
       "      <td>0</td>\n",
       "    </tr>\n",
       "    <tr>\n",
       "      <th>2</th>\n",
       "      <td>28.0</td>\n",
       "      <td>0</td>\n",
       "      <td>0</td>\n",
       "      <td>27.32</td>\n",
       "      <td>5.7</td>\n",
       "      <td>158</td>\n",
       "      <td>0</td>\n",
       "      <td>0</td>\n",
       "      <td>1</td>\n",
       "      <td>0</td>\n",
       "      <td>0</td>\n",
       "      <td>0</td>\n",
       "      <td>0</td>\n",
       "      <td>1</td>\n",
       "      <td>0</td>\n",
       "    </tr>\n",
       "    <tr>\n",
       "      <th>3</th>\n",
       "      <td>36.0</td>\n",
       "      <td>0</td>\n",
       "      <td>0</td>\n",
       "      <td>23.45</td>\n",
       "      <td>5.0</td>\n",
       "      <td>155</td>\n",
       "      <td>0</td>\n",
       "      <td>1</td>\n",
       "      <td>0</td>\n",
       "      <td>0</td>\n",
       "      <td>1</td>\n",
       "      <td>0</td>\n",
       "      <td>0</td>\n",
       "      <td>0</td>\n",
       "      <td>0</td>\n",
       "    </tr>\n",
       "    <tr>\n",
       "      <th>4</th>\n",
       "      <td>76.0</td>\n",
       "      <td>1</td>\n",
       "      <td>1</td>\n",
       "      <td>20.14</td>\n",
       "      <td>4.8</td>\n",
       "      <td>155</td>\n",
       "      <td>0</td>\n",
       "      <td>0</td>\n",
       "      <td>1</td>\n",
       "      <td>0</td>\n",
       "      <td>1</td>\n",
       "      <td>0</td>\n",
       "      <td>0</td>\n",
       "      <td>0</td>\n",
       "      <td>0</td>\n",
       "    </tr>\n",
       "  </tbody>\n",
       "</table>\n",
       "</div>"
      ],
      "text/plain": [
       "    age  hypertension  heart_disease    bmi  HbA1c_level  blood_glucose_level  \\\n",
       "0  80.0             0              1  25.19          6.6                  140   \n",
       "1  54.0             0              0  27.32          6.6                   80   \n",
       "2  28.0             0              0  27.32          5.7                  158   \n",
       "3  36.0             0              0  23.45          5.0                  155   \n",
       "4  76.0             1              1  20.14          4.8                  155   \n",
       "\n",
       "   diabetes  gender_Female  gender_Male  smoking_history_No Info  \\\n",
       "0         0              1            0                        0   \n",
       "1         0              1            0                        1   \n",
       "2         0              0            1                        0   \n",
       "3         0              1            0                        0   \n",
       "4         0              0            1                        0   \n",
       "\n",
       "   smoking_history_current  smoking_history_ever  smoking_history_former  \\\n",
       "0                        0                     0                       0   \n",
       "1                        0                     0                       0   \n",
       "2                        0                     0                       0   \n",
       "3                        1                     0                       0   \n",
       "4                        1                     0                       0   \n",
       "\n",
       "   smoking_history_never  smoking_history_not current  \n",
       "0                      1                            0  \n",
       "1                      0                            0  \n",
       "2                      1                            0  \n",
       "3                      0                            0  \n",
       "4                      0                            0  "
      ]
     },
     "execution_count": 20,
     "metadata": {},
     "output_type": "execute_result"
    }
   ],
   "source": [
    "df_encoded.head()"
   ]
  },
  {
   "cell_type": "code",
   "execution_count": 21,
   "id": "d4e451f3",
   "metadata": {
    "execution": {
     "iopub.execute_input": "2023-09-07T13:27:34.415382Z",
     "iopub.status.busy": "2023-09-07T13:27:34.414821Z",
     "iopub.status.idle": "2023-09-07T13:27:34.449620Z",
     "shell.execute_reply": "2023-09-07T13:27:34.447648Z"
    },
    "papermill": {
     "duration": 0.055625,
     "end_time": "2023-09-07T13:27:34.452490",
     "exception": false,
     "start_time": "2023-09-07T13:27:34.396865",
     "status": "completed"
    },
    "tags": []
   },
   "outputs": [
    {
     "data": {
      "text/html": [
       "<div>\n",
       "<style scoped>\n",
       "    .dataframe tbody tr th:only-of-type {\n",
       "        vertical-align: middle;\n",
       "    }\n",
       "\n",
       "    .dataframe tbody tr th {\n",
       "        vertical-align: top;\n",
       "    }\n",
       "\n",
       "    .dataframe thead th {\n",
       "        text-align: right;\n",
       "    }\n",
       "</style>\n",
       "<table border=\"1\" class=\"dataframe\">\n",
       "  <thead>\n",
       "    <tr style=\"text-align: right;\">\n",
       "      <th></th>\n",
       "      <th>age</th>\n",
       "      <th>hypertension</th>\n",
       "      <th>heart_disease</th>\n",
       "      <th>bmi</th>\n",
       "      <th>HbA1c_level</th>\n",
       "      <th>blood_glucose_level</th>\n",
       "      <th>diabetes</th>\n",
       "      <th>gender_Female</th>\n",
       "      <th>gender_Male</th>\n",
       "      <th>smoking_history_No Info</th>\n",
       "      <th>smoking_history_current</th>\n",
       "      <th>smoking_history_ever</th>\n",
       "      <th>smoking_history_former</th>\n",
       "      <th>smoking_history_never</th>\n",
       "      <th>smoking_history_not current</th>\n",
       "    </tr>\n",
       "  </thead>\n",
       "  <tbody>\n",
       "    <tr>\n",
       "      <th>0</th>\n",
       "      <td>1.700709</td>\n",
       "      <td>0</td>\n",
       "      <td>1</td>\n",
       "      <td>-0.314941</td>\n",
       "      <td>0.994547</td>\n",
       "      <td>0.043558</td>\n",
       "      <td>0</td>\n",
       "      <td>1</td>\n",
       "      <td>0</td>\n",
       "      <td>0</td>\n",
       "      <td>0</td>\n",
       "      <td>0</td>\n",
       "      <td>0</td>\n",
       "      <td>1</td>\n",
       "      <td>0</td>\n",
       "    </tr>\n",
       "    <tr>\n",
       "      <th>1</th>\n",
       "      <td>0.543261</td>\n",
       "      <td>0</td>\n",
       "      <td>0</td>\n",
       "      <td>-0.000214</td>\n",
       "      <td>0.994547</td>\n",
       "      <td>-1.423041</td>\n",
       "      <td>0</td>\n",
       "      <td>1</td>\n",
       "      <td>0</td>\n",
       "      <td>1</td>\n",
       "      <td>0</td>\n",
       "      <td>0</td>\n",
       "      <td>0</td>\n",
       "      <td>0</td>\n",
       "      <td>0</td>\n",
       "    </tr>\n",
       "    <tr>\n",
       "      <th>2</th>\n",
       "      <td>-0.614187</td>\n",
       "      <td>0</td>\n",
       "      <td>0</td>\n",
       "      <td>-0.000214</td>\n",
       "      <td>0.155949</td>\n",
       "      <td>0.483538</td>\n",
       "      <td>0</td>\n",
       "      <td>0</td>\n",
       "      <td>1</td>\n",
       "      <td>0</td>\n",
       "      <td>0</td>\n",
       "      <td>0</td>\n",
       "      <td>0</td>\n",
       "      <td>1</td>\n",
       "      <td>0</td>\n",
       "    </tr>\n",
       "    <tr>\n",
       "      <th>3</th>\n",
       "      <td>-0.258049</td>\n",
       "      <td>0</td>\n",
       "      <td>0</td>\n",
       "      <td>-0.572042</td>\n",
       "      <td>-0.496294</td>\n",
       "      <td>0.410208</td>\n",
       "      <td>0</td>\n",
       "      <td>1</td>\n",
       "      <td>0</td>\n",
       "      <td>0</td>\n",
       "      <td>1</td>\n",
       "      <td>0</td>\n",
       "      <td>0</td>\n",
       "      <td>0</td>\n",
       "      <td>0</td>\n",
       "    </tr>\n",
       "    <tr>\n",
       "      <th>4</th>\n",
       "      <td>1.522640</td>\n",
       "      <td>1</td>\n",
       "      <td>1</td>\n",
       "      <td>-1.061124</td>\n",
       "      <td>-0.682649</td>\n",
       "      <td>0.410208</td>\n",
       "      <td>0</td>\n",
       "      <td>0</td>\n",
       "      <td>1</td>\n",
       "      <td>0</td>\n",
       "      <td>1</td>\n",
       "      <td>0</td>\n",
       "      <td>0</td>\n",
       "      <td>0</td>\n",
       "      <td>0</td>\n",
       "    </tr>\n",
       "  </tbody>\n",
       "</table>\n",
       "</div>"
      ],
      "text/plain": [
       "        age  hypertension  heart_disease       bmi  HbA1c_level  \\\n",
       "0  1.700709             0              1 -0.314941     0.994547   \n",
       "1  0.543261             0              0 -0.000214     0.994547   \n",
       "2 -0.614187             0              0 -0.000214     0.155949   \n",
       "3 -0.258049             0              0 -0.572042    -0.496294   \n",
       "4  1.522640             1              1 -1.061124    -0.682649   \n",
       "\n",
       "   blood_glucose_level  diabetes  gender_Female  gender_Male  \\\n",
       "0             0.043558         0              1            0   \n",
       "1            -1.423041         0              1            0   \n",
       "2             0.483538         0              0            1   \n",
       "3             0.410208         0              1            0   \n",
       "4             0.410208         0              0            1   \n",
       "\n",
       "   smoking_history_No Info  smoking_history_current  smoking_history_ever  \\\n",
       "0                        0                        0                     0   \n",
       "1                        1                        0                     0   \n",
       "2                        0                        0                     0   \n",
       "3                        0                        1                     0   \n",
       "4                        0                        1                     0   \n",
       "\n",
       "   smoking_history_former  smoking_history_never  smoking_history_not current  \n",
       "0                       0                      1                            0  \n",
       "1                       0                      0                            0  \n",
       "2                       0                      1                            0  \n",
       "3                       0                      0                            0  \n",
       "4                       0                      0                            0  "
      ]
     },
     "execution_count": 21,
     "metadata": {},
     "output_type": "execute_result"
    }
   ],
   "source": [
    "# Lets scale the numeric features\n",
    "\n",
    "columns = ['age', 'bmi', 'HbA1c_level', 'blood_glucose_level']\n",
    "scaler = StandardScaler()\n",
    "df_encoded[columns] = scaler.fit_transform(df_encoded[columns])\n",
    "df_encoded.head()"
   ]
  },
  {
   "cell_type": "markdown",
   "id": "5ba11861",
   "metadata": {
    "papermill": {
     "duration": 0.015956,
     "end_time": "2023-09-07T13:27:34.485420",
     "exception": false,
     "start_time": "2023-09-07T13:27:34.469464",
     "status": "completed"
    },
    "tags": []
   },
   "source": [
    "**MODELLING**"
   ]
  },
  {
   "cell_type": "code",
   "execution_count": 22,
   "id": "bb71c347",
   "metadata": {
    "execution": {
     "iopub.execute_input": "2023-09-07T13:27:34.520405Z",
     "iopub.status.busy": "2023-09-07T13:27:34.519983Z",
     "iopub.status.idle": "2023-09-07T13:27:34.532322Z",
     "shell.execute_reply": "2023-09-07T13:27:34.531319Z"
    },
    "papermill": {
     "duration": 0.032945,
     "end_time": "2023-09-07T13:27:34.534849",
     "exception": false,
     "start_time": "2023-09-07T13:27:34.501904",
     "status": "completed"
    },
    "tags": []
   },
   "outputs": [],
   "source": [
    "X = df_encoded.drop('diabetes', axis = 1)\n",
    "y = df_encoded.diabetes"
   ]
  },
  {
   "cell_type": "code",
   "execution_count": 23,
   "id": "4594c2bb",
   "metadata": {
    "execution": {
     "iopub.execute_input": "2023-09-07T13:27:34.566902Z",
     "iopub.status.busy": "2023-09-07T13:27:34.566492Z",
     "iopub.status.idle": "2023-09-07T13:27:34.610880Z",
     "shell.execute_reply": "2023-09-07T13:27:34.608823Z"
    },
    "papermill": {
     "duration": 0.063606,
     "end_time": "2023-09-07T13:27:34.613944",
     "exception": false,
     "start_time": "2023-09-07T13:27:34.550338",
     "status": "completed"
    },
    "tags": []
   },
   "outputs": [
    {
     "data": {
      "text/plain": [
       "((67289, 14), (67289,), (28839, 14), (28839,))"
      ]
     },
     "execution_count": 23,
     "metadata": {},
     "output_type": "execute_result"
    }
   ],
   "source": [
    "#split the X and y into train and test\n",
    "X_train, X_test, y_train, y_test = train_test_split(X,y, test_size = 0.3, random_state = 42)\n",
    "X_train.shape, y_train.shape, X_test.shape, y_test.shape"
   ]
  },
  {
   "cell_type": "code",
   "execution_count": 24,
   "id": "4320cbda",
   "metadata": {
    "execution": {
     "iopub.execute_input": "2023-09-07T13:27:34.649933Z",
     "iopub.status.busy": "2023-09-07T13:27:34.648597Z",
     "iopub.status.idle": "2023-09-07T13:27:34.658171Z",
     "shell.execute_reply": "2023-09-07T13:27:34.656593Z"
    },
    "papermill": {
     "duration": 0.030047,
     "end_time": "2023-09-07T13:27:34.660913",
     "exception": false,
     "start_time": "2023-09-07T13:27:34.630866",
     "status": "completed"
    },
    "tags": []
   },
   "outputs": [
    {
     "data": {
      "text/plain": [
       "diabetes\n",
       "0    26266\n",
       "1     2573\n",
       "Name: count, dtype: int64"
      ]
     },
     "execution_count": 24,
     "metadata": {},
     "output_type": "execute_result"
    }
   ],
   "source": [
    "y_test.value_counts()"
   ]
  },
  {
   "cell_type": "markdown",
   "id": "a953bd04",
   "metadata": {
    "papermill": {
     "duration": 0.01736,
     "end_time": "2023-09-07T13:27:34.694603",
     "exception": false,
     "start_time": "2023-09-07T13:27:34.677243",
     "status": "completed"
    },
    "tags": []
   },
   "source": [
    "We have an issue of class imbalance, we will have to balance the dataset before fitting the model."
   ]
  },
  {
   "cell_type": "code",
   "execution_count": 25,
   "id": "5ebbef28",
   "metadata": {
    "execution": {
     "iopub.execute_input": "2023-09-07T13:27:34.729285Z",
     "iopub.status.busy": "2023-09-07T13:27:34.728875Z",
     "iopub.status.idle": "2023-09-07T13:27:34.949853Z",
     "shell.execute_reply": "2023-09-07T13:27:34.948884Z"
    },
    "papermill": {
     "duration": 0.241279,
     "end_time": "2023-09-07T13:27:34.952491",
     "exception": false,
     "start_time": "2023-09-07T13:27:34.711212",
     "status": "completed"
    },
    "tags": []
   },
   "outputs": [],
   "source": [
    "from imblearn.over_sampling import SMOTE\n",
    "smote = SMOTE(sampling_strategy = 'auto', random_state = 42)\n",
    "X_train_resampled, y_train_resampled =smote.fit_resample(X_train, y_train)"
   ]
  },
  {
   "cell_type": "code",
   "execution_count": 26,
   "id": "2fbaa564",
   "metadata": {
    "execution": {
     "iopub.execute_input": "2023-09-07T13:27:34.988471Z",
     "iopub.status.busy": "2023-09-07T13:27:34.988087Z",
     "iopub.status.idle": "2023-09-07T13:33:08.441233Z",
     "shell.execute_reply": "2023-09-07T13:33:08.439801Z"
    },
    "papermill": {
     "duration": 333.474196,
     "end_time": "2023-09-07T13:33:08.443368",
     "exception": false,
     "start_time": "2023-09-07T13:27:34.969172",
     "status": "completed"
    },
    "tags": []
   },
   "outputs": [
    {
     "name": "stdout",
     "output_type": "stream",
     "text": [
      "Model: Logistic Regression\n",
      "Accuracy: 0.88\n",
      "Classification Report:\n",
      "              precision    recall  f1-score   support\n",
      "\n",
      "           0       0.99      0.88      0.93     26266\n",
      "           1       0.43      0.88      0.57      2573\n",
      "\n",
      "    accuracy                           0.88     28839\n",
      "   macro avg       0.71      0.88      0.75     28839\n",
      "weighted avg       0.94      0.88      0.90     28839\n",
      "\n",
      "Confusion Matrix:\n",
      "[[23217  3049]\n",
      " [  319  2254]]\n",
      "==================================================\n",
      "Model: Decision Tree\n",
      "Accuracy: 0.94\n",
      "Classification Report:\n",
      "              precision    recall  f1-score   support\n",
      "\n",
      "           0       0.97      0.96      0.97     26266\n",
      "           1       0.66      0.74      0.70      2573\n",
      "\n",
      "    accuracy                           0.94     28839\n",
      "   macro avg       0.82      0.85      0.83     28839\n",
      "weighted avg       0.95      0.94      0.94     28839\n",
      "\n",
      "Confusion Matrix:\n",
      "[[25298   968]\n",
      " [  678  1895]]\n",
      "==================================================\n",
      "Model: Random Forest\n",
      "Accuracy: 0.95\n",
      "Classification Report:\n",
      "              precision    recall  f1-score   support\n",
      "\n",
      "           0       0.97      0.98      0.98     26266\n",
      "           1       0.75      0.74      0.74      2573\n",
      "\n",
      "    accuracy                           0.95     28839\n",
      "   macro avg       0.86      0.86      0.86     28839\n",
      "weighted avg       0.95      0.95      0.95     28839\n",
      "\n",
      "Confusion Matrix:\n",
      "[[25647   619]\n",
      " [  681  1892]]\n",
      "==================================================\n",
      "Model: SVM\n",
      "Accuracy: 0.88\n",
      "Classification Report:\n",
      "              precision    recall  f1-score   support\n",
      "\n",
      "           0       0.99      0.88      0.93     26266\n",
      "           1       0.43      0.92      0.58      2573\n",
      "\n",
      "    accuracy                           0.88     28839\n",
      "   macro avg       0.71      0.90      0.76     28839\n",
      "weighted avg       0.94      0.88      0.90     28839\n",
      "\n",
      "Confusion Matrix:\n",
      "[[23078  3188]\n",
      " [  209  2364]]\n",
      "==================================================\n",
      "Model: Naive Bayes\n",
      "Accuracy: 0.85\n",
      "Classification Report:\n",
      "              precision    recall  f1-score   support\n",
      "\n",
      "           0       0.98      0.86      0.91     26266\n",
      "           1       0.36      0.81      0.50      2573\n",
      "\n",
      "    accuracy                           0.85     28839\n",
      "   macro avg       0.67      0.83      0.71     28839\n",
      "weighted avg       0.92      0.85      0.88     28839\n",
      "\n",
      "Confusion Matrix:\n",
      "[[22544  3722]\n",
      " [  491  2082]]\n",
      "==================================================\n",
      "Model: K-Nearest Neighbors\n",
      "Accuracy: 0.91\n",
      "Classification Report:\n",
      "              precision    recall  f1-score   support\n",
      "\n",
      "           0       0.98      0.92      0.95     26266\n",
      "           1       0.49      0.80      0.61      2573\n",
      "\n",
      "    accuracy                           0.91     28839\n",
      "   macro avg       0.73      0.86      0.78     28839\n",
      "weighted avg       0.94      0.91      0.92     28839\n",
      "\n",
      "Confusion Matrix:\n",
      "[[24085  2181]\n",
      " [  504  2069]]\n",
      "==================================================\n"
     ]
    }
   ],
   "source": [
    "classifiers = [\n",
    "    (\"Logistic Regression\", LogisticRegression()),\n",
    "    (\"Decision Tree\", DecisionTreeClassifier()),\n",
    "    (\"Random Forest\", RandomForestClassifier()),\n",
    "    (\"SVM\", SVC()),\n",
    "    (\"Naive Bayes\", GaussianNB()),\n",
    "    (\"K-Nearest Neighbors\", KNeighborsClassifier())\n",
    "]\n",
    "\n",
    "# Iterate through classifiers, fit, and evaluate them\n",
    "for name, classifier in classifiers:\n",
    "    classifier.fit(X_train_resampled, y_train_resampled)\n",
    "    y_pred = classifier.predict(X_test)\n",
    "    \n",
    "    # Calculate accuracy\n",
    "    accuracy = accuracy_score(y_test, y_pred)\n",
    "    print(f\"Model: {name}\")\n",
    "    print(f\"Accuracy: {accuracy:.2f}\")\n",
    "    \n",
    "    # Display classification report\n",
    "    report = classification_report(y_test, y_pred)\n",
    "    print(f\"Classification Report:\\n{report}\")\n",
    "    \n",
    "    # Display confusion matrix\n",
    "    confusion = confusion_matrix(y_test, y_pred)\n",
    "    print(f\"Confusion Matrix:\\n{confusion}\")\n",
    "    print(\"=\" * 50)"
   ]
  },
  {
   "cell_type": "markdown",
   "id": "0acedd63",
   "metadata": {
    "papermill": {
     "duration": 0.017128,
     "end_time": "2023-09-07T13:33:08.477060",
     "exception": false,
     "start_time": "2023-09-07T13:33:08.459932",
     "status": "completed"
    },
    "tags": []
   },
   "source": [
    "Lets try another variant of SMOTE which is SMOTENC"
   ]
  },
  {
   "cell_type": "code",
   "execution_count": 27,
   "id": "41a4acee",
   "metadata": {
    "execution": {
     "iopub.execute_input": "2023-09-07T13:33:08.514271Z",
     "iopub.status.busy": "2023-09-07T13:33:08.513826Z",
     "iopub.status.idle": "2023-09-07T13:33:08.523682Z",
     "shell.execute_reply": "2023-09-07T13:33:08.521735Z"
    },
    "papermill": {
     "duration": 0.03187,
     "end_time": "2023-09-07T13:33:08.526570",
     "exception": false,
     "start_time": "2023-09-07T13:33:08.494700",
     "status": "completed"
    },
    "tags": []
   },
   "outputs": [
    {
     "data": {
      "text/plain": [
       "Index(['age', 'hypertension', 'heart_disease', 'bmi', 'HbA1c_level',\n",
       "       'blood_glucose_level', 'gender_Female', 'gender_Male',\n",
       "       'smoking_history_No Info', 'smoking_history_current',\n",
       "       'smoking_history_ever', 'smoking_history_former',\n",
       "       'smoking_history_never', 'smoking_history_not current'],\n",
       "      dtype='object')"
      ]
     },
     "execution_count": 27,
     "metadata": {},
     "output_type": "execute_result"
    }
   ],
   "source": [
    "X.columns"
   ]
  },
  {
   "cell_type": "code",
   "execution_count": 28,
   "id": "7bdfe573",
   "metadata": {
    "execution": {
     "iopub.execute_input": "2023-09-07T13:33:08.562884Z",
     "iopub.status.busy": "2023-09-07T13:33:08.562468Z",
     "iopub.status.idle": "2023-09-07T13:33:19.041914Z",
     "shell.execute_reply": "2023-09-07T13:33:19.040352Z"
    },
    "papermill": {
     "duration": 10.500591,
     "end_time": "2023-09-07T13:33:19.044553",
     "exception": false,
     "start_time": "2023-09-07T13:33:08.543962",
     "status": "completed"
    },
    "tags": []
   },
   "outputs": [],
   "source": [
    "from imblearn.over_sampling import SMOTENC\n",
    "categorical_features = [1,2,6,7,8,9,10,11,12,13]\n",
    "smote_nc = SMOTENC(categorical_features = categorical_features,random_state = 42)\n",
    "X_train_resampled, y_train_resampled =smote_nc.fit_resample(X_train, y_train)"
   ]
  },
  {
   "cell_type": "code",
   "execution_count": 29,
   "id": "7efe8635",
   "metadata": {
    "execution": {
     "iopub.execute_input": "2023-09-07T13:33:19.079705Z",
     "iopub.status.busy": "2023-09-07T13:33:19.079314Z",
     "iopub.status.idle": "2023-09-07T13:38:58.657940Z",
     "shell.execute_reply": "2023-09-07T13:38:58.655826Z"
    },
    "papermill": {
     "duration": 339.598988,
     "end_time": "2023-09-07T13:38:58.660612",
     "exception": false,
     "start_time": "2023-09-07T13:33:19.061624",
     "status": "completed"
    },
    "tags": []
   },
   "outputs": [
    {
     "name": "stdout",
     "output_type": "stream",
     "text": [
      "Model: Logistic Regression\n",
      "Accuracy: 0.88\n",
      "Classification Report:\n",
      "              precision    recall  f1-score   support\n",
      "\n",
      "           0       0.99      0.88      0.93     26266\n",
      "           1       0.42      0.87      0.57      2573\n",
      "\n",
      "    accuracy                           0.88     28839\n",
      "   macro avg       0.70      0.88      0.75     28839\n",
      "weighted avg       0.94      0.88      0.90     28839\n",
      "\n",
      "Confusion Matrix:\n",
      "[[23191  3075]\n",
      " [  323  2250]]\n",
      "==================================================\n",
      "Model: Decision Tree\n",
      "Accuracy: 0.95\n",
      "Classification Report:\n",
      "              precision    recall  f1-score   support\n",
      "\n",
      "           0       0.97      0.97      0.97     26266\n",
      "           1       0.68      0.74      0.71      2573\n",
      "\n",
      "    accuracy                           0.95     28839\n",
      "   macro avg       0.83      0.85      0.84     28839\n",
      "weighted avg       0.95      0.95      0.95     28839\n",
      "\n",
      "Confusion Matrix:\n",
      "[[25360   906]\n",
      " [  678  1895]]\n",
      "==================================================\n",
      "Model: Random Forest\n",
      "Accuracy: 0.96\n",
      "Classification Report:\n",
      "              precision    recall  f1-score   support\n",
      "\n",
      "           0       0.97      0.98      0.98     26266\n",
      "           1       0.76      0.73      0.74      2573\n",
      "\n",
      "    accuracy                           0.96     28839\n",
      "   macro avg       0.87      0.86      0.86     28839\n",
      "weighted avg       0.95      0.96      0.95     28839\n",
      "\n",
      "Confusion Matrix:\n",
      "[[25658   608]\n",
      " [  686  1887]]\n",
      "==================================================\n",
      "Model: SVM\n",
      "Accuracy: 0.88\n",
      "Classification Report:\n",
      "              precision    recall  f1-score   support\n",
      "\n",
      "           0       0.99      0.88      0.93     26266\n",
      "           1       0.42      0.92      0.58      2573\n",
      "\n",
      "    accuracy                           0.88     28839\n",
      "   macro avg       0.71      0.90      0.76     28839\n",
      "weighted avg       0.94      0.88      0.90     28839\n",
      "\n",
      "Confusion Matrix:\n",
      "[[23043  3223]\n",
      " [  207  2366]]\n",
      "==================================================\n",
      "Model: Naive Bayes\n",
      "Accuracy: 0.85\n",
      "Classification Report:\n",
      "              precision    recall  f1-score   support\n",
      "\n",
      "           0       0.98      0.86      0.92     26266\n",
      "           1       0.36      0.81      0.50      2573\n",
      "\n",
      "    accuracy                           0.85     28839\n",
      "   macro avg       0.67      0.83      0.71     28839\n",
      "weighted avg       0.92      0.85      0.88     28839\n",
      "\n",
      "Confusion Matrix:\n",
      "[[22576  3690]\n",
      " [  493  2080]]\n",
      "==================================================\n",
      "Model: K-Nearest Neighbors\n",
      "Accuracy: 0.91\n",
      "Classification Report:\n",
      "              precision    recall  f1-score   support\n",
      "\n",
      "           0       0.98      0.92      0.95     26266\n",
      "           1       0.49      0.80      0.60      2573\n",
      "\n",
      "    accuracy                           0.91     28839\n",
      "   macro avg       0.73      0.86      0.78     28839\n",
      "weighted avg       0.93      0.91      0.92     28839\n",
      "\n",
      "Confusion Matrix:\n",
      "[[24116  2150]\n",
      " [  527  2046]]\n",
      "==================================================\n"
     ]
    }
   ],
   "source": [
    "classifiers = [\n",
    "    (\"Logistic Regression\", LogisticRegression()),\n",
    "    (\"Decision Tree\", DecisionTreeClassifier()),\n",
    "    (\"Random Forest\", RandomForestClassifier()),\n",
    "    (\"SVM\", SVC()),\n",
    "    (\"Naive Bayes\", GaussianNB()),\n",
    "    (\"K-Nearest Neighbors\", KNeighborsClassifier())\n",
    "]\n",
    "\n",
    "# Iterate through classifiers, fit, and evaluate them\n",
    "for name, classifier in classifiers:\n",
    "    classifier.fit(X_train_resampled, y_train_resampled)\n",
    "    y_pred = classifier.predict(X_test)\n",
    "    \n",
    "    # Calculate accuracy\n",
    "    accuracy = accuracy_score(y_test, y_pred)\n",
    "    print(f\"Model: {name}\")\n",
    "    print(f\"Accuracy: {accuracy:.2f}\")\n",
    "    \n",
    "    # Display classification report\n",
    "    report = classification_report(y_test, y_pred)\n",
    "    print(f\"Classification Report:\\n{report}\")\n",
    "    \n",
    "    # Display confusion matrix\n",
    "    confusion = confusion_matrix(y_test, y_pred)\n",
    "    print(f\"Confusion Matrix:\\n{confusion}\")\n",
    "    print(\"=\" * 50)"
   ]
  },
  {
   "cell_type": "code",
   "execution_count": 30,
   "id": "b5c3f37e",
   "metadata": {
    "execution": {
     "iopub.execute_input": "2023-09-07T13:38:58.697448Z",
     "iopub.status.busy": "2023-09-07T13:38:58.697047Z",
     "iopub.status.idle": "2023-09-07T13:38:58.707694Z",
     "shell.execute_reply": "2023-09-07T13:38:58.706227Z"
    },
    "papermill": {
     "duration": 0.031849,
     "end_time": "2023-09-07T13:38:58.709879",
     "exception": false,
     "start_time": "2023-09-07T13:38:58.678030",
     "status": "completed"
    },
    "tags": []
   },
   "outputs": [
    {
     "data": {
      "text/plain": [
       "diabetes\n",
       "0    61380\n",
       "1    61380\n",
       "Name: count, dtype: int64"
      ]
     },
     "execution_count": 30,
     "metadata": {},
     "output_type": "execute_result"
    }
   ],
   "source": [
    "y_train_resampled.value_counts()"
   ]
  },
  {
   "cell_type": "code",
   "execution_count": null,
   "id": "b6a9430d",
   "metadata": {
    "papermill": {
     "duration": 0.018068,
     "end_time": "2023-09-07T13:38:58.744398",
     "exception": false,
     "start_time": "2023-09-07T13:38:58.726330",
     "status": "completed"
    },
    "tags": []
   },
   "outputs": [],
   "source": []
  },
  {
   "cell_type": "markdown",
   "id": "f8d49f8d",
   "metadata": {
    "papermill": {
     "duration": 0.016461,
     "end_time": "2023-09-07T13:38:58.778587",
     "exception": false,
     "start_time": "2023-09-07T13:38:58.762126",
     "status": "completed"
    },
    "tags": []
   },
   "source": [
    "**ARTIFICIAL NEURAL NETWORK**"
   ]
  },
  {
   "cell_type": "code",
   "execution_count": 31,
   "id": "fbaa772b",
   "metadata": {
    "execution": {
     "iopub.execute_input": "2023-09-07T13:38:58.814449Z",
     "iopub.status.busy": "2023-09-07T13:38:58.814095Z",
     "iopub.status.idle": "2023-09-07T13:39:08.462050Z",
     "shell.execute_reply": "2023-09-07T13:39:08.460159Z"
    },
    "papermill": {
     "duration": 9.668922,
     "end_time": "2023-09-07T13:39:08.464826",
     "exception": false,
     "start_time": "2023-09-07T13:38:58.795904",
     "status": "completed"
    },
    "tags": []
   },
   "outputs": [],
   "source": [
    "import tensorflow as tf\n",
    "from tensorflow import keras"
   ]
  },
  {
   "cell_type": "code",
   "execution_count": 32,
   "id": "183385d3",
   "metadata": {
    "execution": {
     "iopub.execute_input": "2023-09-07T13:39:08.500908Z",
     "iopub.status.busy": "2023-09-07T13:39:08.500044Z",
     "iopub.status.idle": "2023-09-07T13:40:21.246318Z",
     "shell.execute_reply": "2023-09-07T13:40:21.244330Z"
    },
    "papermill": {
     "duration": 72.766743,
     "end_time": "2023-09-07T13:40:21.248690",
     "exception": false,
     "start_time": "2023-09-07T13:39:08.481947",
     "status": "completed"
    },
    "tags": []
   },
   "outputs": [
    {
     "name": "stdout",
     "output_type": "stream",
     "text": [
      "Epoch 1/10\n",
      "2103/2103 [==============================] - 7s 3ms/step - loss: 0.1068 - accuracy: 0.9635 - val_loss: 0.0945 - val_accuracy: 0.9655\n",
      "Epoch 2/10\n",
      "2103/2103 [==============================] - 6s 3ms/step - loss: 0.0879 - accuracy: 0.9693 - val_loss: 0.0917 - val_accuracy: 0.9676\n",
      "Epoch 3/10\n",
      "2103/2103 [==============================] - 8s 4ms/step - loss: 0.0856 - accuracy: 0.9704 - val_loss: 0.0896 - val_accuracy: 0.9684\n",
      "Epoch 4/10\n",
      "2103/2103 [==============================] - 7s 3ms/step - loss: 0.0850 - accuracy: 0.9704 - val_loss: 0.0875 - val_accuracy: 0.9687\n",
      "Epoch 5/10\n",
      "2103/2103 [==============================] - 6s 3ms/step - loss: 0.0844 - accuracy: 0.9708 - val_loss: 0.0881 - val_accuracy: 0.9695\n",
      "Epoch 6/10\n",
      "2103/2103 [==============================] - 7s 3ms/step - loss: 0.0840 - accuracy: 0.9710 - val_loss: 0.0872 - val_accuracy: 0.9696\n",
      "Epoch 7/10\n",
      "2103/2103 [==============================] - 6s 3ms/step - loss: 0.0834 - accuracy: 0.9713 - val_loss: 0.0890 - val_accuracy: 0.9692\n",
      "Epoch 8/10\n",
      "2103/2103 [==============================] - 8s 4ms/step - loss: 0.0834 - accuracy: 0.9709 - val_loss: 0.0866 - val_accuracy: 0.9696\n",
      "Epoch 9/10\n",
      "2103/2103 [==============================] - 8s 4ms/step - loss: 0.0832 - accuracy: 0.9712 - val_loss: 0.0878 - val_accuracy: 0.9698\n",
      "Epoch 10/10\n",
      "2103/2103 [==============================] - 7s 3ms/step - loss: 0.0827 - accuracy: 0.9714 - val_loss: 0.0868 - val_accuracy: 0.9697\n",
      "902/902 [==============================] - 2s 2ms/step - loss: 0.0868 - accuracy: 0.9697\n",
      "Test Loss: 0.08677274733781815\n",
      "Test Accuracy: 0.9696938395500183\n"
     ]
    }
   ],
   "source": [
    "model = keras.Sequential([\n",
    "    keras.layers.Dense(512, activation = 'relu', input_shape = (X_train.shape[1],)),\n",
    "    keras.layers.Dense(256, activation = 'relu'),\n",
    "    keras.layers.Dense(128, activation = 'relu'),\n",
    "    keras.layers.Dense(1, activation = 'sigmoid')\n",
    "])\n",
    "\n",
    "model = keras.Sequential([\n",
    "    keras.layers.Dense(256, activation='relu', input_shape=(X_train.shape[1],)),\n",
    "    keras.layers.Dense(128, activation='relu'),\n",
    "    keras.layers.Dense(1, activation='sigmoid')\n",
    "])\n",
    "\n",
    "model.compile(optimizer='adam', loss='binary_crossentropy', metrics=['accuracy'])\n",
    "\n",
    "model.fit(X_train, y_train, epochs=10, batch_size=32, validation_data=(X_test, y_test))\n",
    "\n",
    "test_loss, test_accuracy = model.evaluate(X_test, y_test)\n",
    "print(\"Test Loss:\", test_loss)\n",
    "print(\"Test Accuracy:\", test_accuracy)"
   ]
  },
  {
   "cell_type": "code",
   "execution_count": 33,
   "id": "6b3d5c7a",
   "metadata": {
    "execution": {
     "iopub.execute_input": "2023-09-07T13:40:21.427396Z",
     "iopub.status.busy": "2023-09-07T13:40:21.426867Z",
     "iopub.status.idle": "2023-09-07T13:40:23.342655Z",
     "shell.execute_reply": "2023-09-07T13:40:23.340697Z"
    },
    "papermill": {
     "duration": 2.003307,
     "end_time": "2023-09-07T13:40:23.345449",
     "exception": false,
     "start_time": "2023-09-07T13:40:21.342142",
     "status": "completed"
    },
    "tags": []
   },
   "outputs": [
    {
     "name": "stdout",
     "output_type": "stream",
     "text": [
      "902/902 [==============================] - 1s 2ms/step\n",
      "Accuracy: 0.9696938174000486\n",
      "Confusion Matrix:\n",
      "[[26221    45]\n",
      " [  829  1744]]\n",
      "\n",
      "Classification Report:\n",
      "              precision    recall  f1-score   support\n",
      "\n",
      "           0       0.97      1.00      0.98     26266\n",
      "           1       0.97      0.68      0.80      2573\n",
      "\n",
      "    accuracy                           0.97     28839\n",
      "   macro avg       0.97      0.84      0.89     28839\n",
      "weighted avg       0.97      0.97      0.97     28839\n",
      "\n"
     ]
    }
   ],
   "source": [
    "y_pred = model.predict(X_test)\n",
    "# Convert probabilities to binary predictions (using 0.5 as the threshold)\n",
    "y_pred_binary = (y_pred > 0.5).astype(int)\n",
    "# Convert y_test to numpy array if it's not already\n",
    "y_test = np.array(y_test)\n",
    "\n",
    "# compute the accuracy\n",
    "accuracy = accuracy_score(y_test, y_pred_binary)\n",
    "# Compute the confusion matrix\n",
    "confusion_mtx = confusion_matrix(y_test, y_pred_binary)\n",
    "\n",
    "# Generate a classification report\n",
    "classification_rep = classification_report(y_test, y_pred_binary)\n",
    "\n",
    "#Print the accuracy score\n",
    "print('Accuracy:', accuracy)\n",
    "# Print the confusion matrix\n",
    "print(\"Confusion Matrix:\")\n",
    "print(confusion_mtx)\n",
    "\n",
    "# Print the classification report\n",
    "print(\"\\nClassification Report:\")\n",
    "print(classification_rep)"
   ]
  },
  {
   "cell_type": "markdown",
   "id": "8d572f85",
   "metadata": {
    "papermill": {
     "duration": 0.081172,
     "end_time": "2023-09-07T13:40:23.505853",
     "exception": false,
     "start_time": "2023-09-07T13:40:23.424681",
     "status": "completed"
    },
    "tags": []
   },
   "source": [
    "Lets try balancing the target feature before building the Neural Network Model"
   ]
  },
  {
   "cell_type": "code",
   "execution_count": 34,
   "id": "1957d719",
   "metadata": {
    "execution": {
     "iopub.execute_input": "2023-09-07T13:40:23.669057Z",
     "iopub.status.busy": "2023-09-07T13:40:23.668673Z",
     "iopub.status.idle": "2023-09-07T13:40:24.273799Z",
     "shell.execute_reply": "2023-09-07T13:40:24.272905Z"
    },
    "papermill": {
     "duration": 0.689048,
     "end_time": "2023-09-07T13:40:24.276186",
     "exception": false,
     "start_time": "2023-09-07T13:40:23.587138",
     "status": "completed"
    },
    "tags": []
   },
   "outputs": [
    {
     "name": "stderr",
     "output_type": "stream",
     "text": [
      "/opt/conda/lib/python3.10/site-packages/sklearn/cluster/_kmeans.py:870: FutureWarning: The default value of `n_init` will change from 3 to 'auto' in 1.4. Set the value of `n_init` explicitly to suppress the warning\n",
      "  warnings.warn(\n"
     ]
    }
   ],
   "source": [
    "from imblearn.over_sampling import KMeansSMOTE\n",
    "k_mean_smote = KMeansSMOTE(cluster_balance_threshold = 0.1)\n",
    "X_train_resampled, y_train_resampled = k_mean_smote.fit_resample(X_train, y_train)"
   ]
  },
  {
   "cell_type": "code",
   "execution_count": 35,
   "id": "3657e027",
   "metadata": {
    "execution": {
     "iopub.execute_input": "2023-09-07T13:40:24.437095Z",
     "iopub.status.busy": "2023-09-07T13:40:24.436684Z",
     "iopub.status.idle": "2023-09-07T13:40:24.446682Z",
     "shell.execute_reply": "2023-09-07T13:40:24.445746Z"
    },
    "papermill": {
     "duration": 0.093182,
     "end_time": "2023-09-07T13:40:24.448666",
     "exception": false,
     "start_time": "2023-09-07T13:40:24.355484",
     "status": "completed"
    },
    "tags": []
   },
   "outputs": [
    {
     "data": {
      "text/plain": [
       "diabetes\n",
       "1    61382\n",
       "0    61380\n",
       "Name: count, dtype: int64"
      ]
     },
     "execution_count": 35,
     "metadata": {},
     "output_type": "execute_result"
    }
   ],
   "source": [
    "y_train_resampled.value_counts()"
   ]
  },
  {
   "cell_type": "code",
   "execution_count": 36,
   "id": "ffb7a143",
   "metadata": {
    "execution": {
     "iopub.execute_input": "2023-09-07T13:40:24.610381Z",
     "iopub.status.busy": "2023-09-07T13:40:24.609968Z",
     "iopub.status.idle": "2023-09-07T13:42:22.841547Z",
     "shell.execute_reply": "2023-09-07T13:42:22.840343Z"
    },
    "papermill": {
     "duration": 118.315583,
     "end_time": "2023-09-07T13:42:22.844042",
     "exception": false,
     "start_time": "2023-09-07T13:40:24.528459",
     "status": "completed"
    },
    "tags": []
   },
   "outputs": [
    {
     "name": "stdout",
     "output_type": "stream",
     "text": [
      "Epoch 1/10\n",
      "3837/3837 [==============================] - 12s 3ms/step - loss: 0.0746 - accuracy: 0.9705 - val_loss: 0.0939 - val_accuracy: 0.9645\n",
      "Epoch 2/10\n",
      "3837/3837 [==============================] - 12s 3ms/step - loss: 0.0634 - accuracy: 0.9750 - val_loss: 0.0939 - val_accuracy: 0.9666\n",
      "Epoch 3/10\n",
      "3837/3837 [==============================] - 12s 3ms/step - loss: 0.0622 - accuracy: 0.9753 - val_loss: 0.0921 - val_accuracy: 0.9692\n",
      "Epoch 4/10\n",
      "3837/3837 [==============================] - 12s 3ms/step - loss: 0.0614 - accuracy: 0.9756 - val_loss: 0.0956 - val_accuracy: 0.9664\n",
      "Epoch 5/10\n",
      "3837/3837 [==============================] - 10s 3ms/step - loss: 0.0610 - accuracy: 0.9757 - val_loss: 0.0896 - val_accuracy: 0.9689\n",
      "Epoch 6/10\n",
      "3837/3837 [==============================] - 11s 3ms/step - loss: 0.0605 - accuracy: 0.9760 - val_loss: 0.0987 - val_accuracy: 0.9644\n",
      "Epoch 7/10\n",
      "3837/3837 [==============================] - 12s 3ms/step - loss: 0.0603 - accuracy: 0.9761 - val_loss: 0.0938 - val_accuracy: 0.9676\n",
      "Epoch 8/10\n",
      "3837/3837 [==============================] - 10s 3ms/step - loss: 0.0601 - accuracy: 0.9762 - val_loss: 0.0928 - val_accuracy: 0.9675\n",
      "Epoch 9/10\n",
      "3837/3837 [==============================] - 12s 3ms/step - loss: 0.0599 - accuracy: 0.9762 - val_loss: 0.0913 - val_accuracy: 0.9675\n",
      "Epoch 10/10\n",
      "3837/3837 [==============================] - 12s 3ms/step - loss: 0.0590 - accuracy: 0.9765 - val_loss: 0.1054 - val_accuracy: 0.9635\n",
      "902/902 [==============================] - 2s 2ms/step - loss: 0.1054 - accuracy: 0.9635\n",
      "Test Loss: 0.10540227591991425\n",
      "Test Accuracy: 0.9635215997695923\n"
     ]
    }
   ],
   "source": [
    "model = keras.Sequential([\n",
    "    keras.layers.Dense(512, activation = 'relu', input_shape = (X_train_resampled.shape[1],)),\n",
    "    keras.layers.Dense(256, activation = 'relu'),\n",
    "    keras.layers.Dense(128, activation = 'relu'),\n",
    "    keras.layers.Dense(1, activation = 'sigmoid')\n",
    "])\n",
    "\n",
    "model = keras.Sequential([\n",
    "    keras.layers.Dense(256, activation='relu', input_shape=(X_train_resampled.shape[1],)),\n",
    "    keras.layers.Dense(128, activation='relu'),\n",
    "    keras.layers.Dense(1, activation='sigmoid')\n",
    "])\n",
    "\n",
    "model.compile(optimizer='adam', loss='binary_crossentropy', metrics=['accuracy'])\n",
    "\n",
    "model.fit(X_train_resampled, y_train_resampled, epochs=10, batch_size=32, validation_data=(X_test, y_test))\n",
    "\n",
    "test_loss, test_accuracy = model.evaluate(X_test, y_test)\n",
    "print(\"Test Loss:\", test_loss)\n",
    "print(\"Test Accuracy:\", test_accuracy)"
   ]
  },
  {
   "cell_type": "code",
   "execution_count": 37,
   "id": "581c1961",
   "metadata": {
    "execution": {
     "iopub.execute_input": "2023-09-07T13:42:23.231116Z",
     "iopub.status.busy": "2023-09-07T13:42:23.230711Z",
     "iopub.status.idle": "2023-09-07T13:42:25.905523Z",
     "shell.execute_reply": "2023-09-07T13:42:25.903879Z"
    },
    "papermill": {
     "duration": 2.871828,
     "end_time": "2023-09-07T13:42:25.908901",
     "exception": false,
     "start_time": "2023-09-07T13:42:23.037073",
     "status": "completed"
    },
    "tags": []
   },
   "outputs": [
    {
     "name": "stdout",
     "output_type": "stream",
     "text": [
      "902/902 [==============================] - 1s 1ms/step\n",
      "Accuracy: 0.9635216200284337\n",
      "Confusion Matrix:\n",
      "[[25996   270]\n",
      " [  782  1791]]\n",
      "\n",
      "Classification Report:\n",
      "              precision    recall  f1-score   support\n",
      "\n",
      "           0       0.97      0.99      0.98     26266\n",
      "           1       0.87      0.70      0.77      2573\n",
      "\n",
      "    accuracy                           0.96     28839\n",
      "   macro avg       0.92      0.84      0.88     28839\n",
      "weighted avg       0.96      0.96      0.96     28839\n",
      "\n"
     ]
    }
   ],
   "source": [
    "y_pred = model.predict(X_test)\n",
    "# Convert probabilities to binary predictions (using 0.5 as the threshold)\n",
    "y_pred_binary = (y_pred > 0.5).astype(int)\n",
    "# Convert y_test to numpy array if it's not already\n",
    "y_test = np.array(y_test)\n",
    "\n",
    "# compute the accuracy\n",
    "accuracy = accuracy_score(y_test, y_pred_binary)\n",
    "# Compute the confusion matrix\n",
    "confusion_mtx = confusion_matrix(y_test, y_pred_binary)\n",
    "\n",
    "# Generate a classification report\n",
    "classification_rep = classification_report(y_test, y_pred_binary)\n",
    "\n",
    "#Print the accuracy score\n",
    "print('Accuracy:', accuracy)\n",
    "# Print the confusion matrix\n",
    "print(\"Confusion Matrix:\")\n",
    "print(confusion_mtx)\n",
    "\n",
    "# Print the classification report\n",
    "print(\"\\nClassification Report:\")\n",
    "print(classification_rep)"
   ]
  }
 ],
 "kernelspec": {
  "display_name": "Python 3",
  "language": "python",
  "name": "python3"
 },
 "language_info": {
  "codemirror_mode": {
   "name": "ipython",
   "version": 3
  },
  "file_extension": ".py",
  "mimetype": "text/x-python",
  "name": "python",
  "nbconvert_exporter": "python",
  "pygments_lexer": "ipython3",
  "version": "3.6.4"
 },
 "metadata": {
  "kernelspec": {
   "display_name": "Python 3",
   "language": "python",
   "name": "python3"
  },
  "language_info": {
   "codemirror_mode": {
    "name": "ipython",
    "version": 3
   },
   "file_extension": ".py",
   "mimetype": "text/x-python",
   "name": "python",
   "nbconvert_exporter": "python",
   "pygments_lexer": "ipython3",
   "version": "3.10.12"
  },
  "papermill": {
   "default_parameters": {},
   "duration": 906.758521,
   "end_time": "2023-09-07T13:42:28.863641",
   "environment_variables": {},
   "exception": null,
   "input_path": "__notebook__.ipynb",
   "output_path": "__notebook__.ipynb",
   "parameters": {},
   "start_time": "2023-09-07T13:27:22.105120",
   "version": "2.4.0"
  }
 },
 "nbformat": 4,
 "nbformat_minor": 5
}
